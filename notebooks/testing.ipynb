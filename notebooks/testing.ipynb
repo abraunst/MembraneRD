{
 "cells": [
  {
   "cell_type": "code",
   "execution_count": 2,
   "metadata": {},
   "outputs": [
    {
     "data": {
      "text/plain": [
       "gen_hex_lattice (generic function with 1 method)"
      ]
     },
     "metadata": {},
     "output_type": "display_data"
    }
   ],
   "source": [
    "using JLD, ExponentialQueues\n",
    "include(\"../RD.jl\")\n",
    "include(\"../RDnew.jl\")\n",
    "include(\"../lattice.jl\")\n",
    "\n",
    "\n",
    "#include(\"run_tests.jl\")\n"
   ]
  },
  {
   "cell_type": "code",
   "execution_count": 3,
   "metadata": {},
   "outputs": [
    {
     "data": {
      "text/plain": [
       "build_model_state (generic function with 1 method)"
      ]
     },
     "metadata": {},
     "output_type": "display_data"
    }
   ],
   "source": [
    "#stats = Measurer(M; times=0:0.01:T)\n",
    "#run_RD!(s, M, T; stats = stats)\n",
    "\n",
    "function build_model_state(L)\n",
    "    nn,centers = gen_hex_lattice(L)\n",
    "    N = size(nn,1)\n",
    "    memb0 = zeros(Int,N,4)\t\n",
    "    unit_length = 1.0\n",
    "\n",
    "    theta = 0.2126944621086619#Stot/V\n",
    "\n",
    "\n",
    "    Ac = unit_length^2#area associated to each cell, set unit lengthscale\n",
    "    Stot = N*Ac #area of each cell is assumed to be 1, setting unit lengthscale\n",
    "    V = Stot/theta\n",
    "    d_timescale = 1.0#this sets unit timescale\n",
    "    dA = d_timescale\n",
    "    dB = d_timescale\n",
    "    dEA = d_timescale\n",
    "    dEB = d_timescale\n",
    "    #rates in the theory (do not correspond excatly to those used in the simulations), some slight dimensional changes are needed\n",
    "    kAa_th = 1.0\n",
    "    kAd_th = 1.0*kAa_th\n",
    "    kAc_th = 1.0\n",
    "    kBa_th = 1.0\n",
    "    kBd_th = 1.0*kBa_th\n",
    "    kBc_th = logrange(logrange(0.1,10,17)[4],logrange(0.1,10.0,17)[14],23)[13]*kAc_th\n",
    "    KMM_th = 1.0\n",
    "    #rates to implement\n",
    "    kAc = kAc_th\n",
    "    kBc = kBc_th\n",
    "    kAa = kAa_th/V\n",
    "    kAd = kAd_th\n",
    "    kBa = kBa_th/V\n",
    "    kBd = kBd_th\n",
    "    KMM = KMM_th*Ac\n",
    "\n",
    "    M = Model(nn, centers, dA, dB, dEA, dEB, kAc, kBc, kAa, kAd, kBa, kBd, KMM, 0.0)\n",
    "\n",
    "    N = size(M.neig, 1)\n",
    "    totmol = N * 10\n",
    "    totA = 0.5 * totmol\n",
    "    totB = 0.5 * totmol\n",
    "    theta = 0.2126944621086619#Stot/V\n",
    "\n",
    "    nA, nB, nEA, nEB = fill(0,N), fill(0,N), fill(0,N), fill(0,N)\n",
    "\n",
    "    for i in 1:totA\n",
    "        nA[rand(1:N)] += 1\n",
    "    end\n",
    "    for i in 1:totB\n",
    "        nB[rand(1:N)] += 1\t\n",
    "    end\n",
    "    EA_tot_n = floor(Int, 0.1*N)\n",
    "    EB_tot_n = floor(Int, 0.1*N)\n",
    "    EA_mem = floor(Int, EA_tot_n*(theta/(kAd_th/kAa_th))*(totA/Stot)/(1+((theta/(kAd_th/kAa_th))*(totA/Stot))))\n",
    "    EB_mem = floor(Int, EB_tot_n*(theta/(kBd_th/kBa_th))*(totB/Stot)/(1+((theta/(kBd_th/kBa_th))*(totB/Stot))))\n",
    "    for i in 1:EA_mem\n",
    "        nEA[rand(1:N)] += 1\n",
    "    end\n",
    "    for i in 1:EB_mem\n",
    "        nEB[rand(1:N)] += 1\n",
    "    end\n",
    "    cytoEA = EA_tot_n - EA_mem\n",
    "    cytoEB = EB_tot_n - EB_mem\n",
    "\n",
    "    s = State(nA, nB, nEA, nEB, Ref(cytoEA), Ref(cytoEB))\n",
    "    M,s\n",
    "end"
   ]
  },
  {
   "cell_type": "code",
   "execution_count": 4,
   "metadata": {},
   "outputs": [
    {
     "name": "stdout",
     "output_type": "stream",
     "text": [
      "starting simulation, 10407 events in the queue\n"
     ]
    },
    {
     "name": "stderr",
     "output_type": "stream",
     "text": [
      "\u001b[32mProgress:   6%|██▌                                      |  ETA: 0:06:17\u001b[39m\u001b[K"
     ]
    },
    {
     "ename": "InterruptException",
     "evalue": "InterruptException:",
     "output_type": "error",
     "traceback": [
      "InterruptException:\n",
      "\n",
      "Stacktrace:\n",
      "  [1] round(::Type{Int64}, x::Float64)\n",
      "    @ Base ./rounding.jl:477\n",
      "  [2] calc_check_iterations(p::Progress, t::Float64)\n",
      "    @ ProgressMeter ~/.julia/packages/ProgressMeter/kVZZH/src/ProgressMeter.jl:206\n",
      "  [3] _updateProgress!(p::Progress; showvalues::Tuple{}, truncate_lines::Bool, valuecolor::Symbol, offset::Int64, keep::Bool, desc::Nothing, ignore_predictor::Bool, force::Bool, color::Symbol, max_steps::Int64)\n",
      "    @ ProgressMeter ~/.julia/packages/ProgressMeter/kVZZH/src/ProgressMeter.jl:265\n",
      "  [4] _updateProgress!\n",
      "    @ ~/.julia/packages/ProgressMeter/kVZZH/src/ProgressMeter.jl:216 [inlined]\n",
      "  [5] #updateProgress!#9\n",
      "    @ ~/.julia/packages/ProgressMeter/kVZZH/src/ProgressMeter.jl:212 [inlined]\n",
      "  [6] updateProgress!\n",
      "    @ ~/.julia/packages/ProgressMeter/kVZZH/src/ProgressMeter.jl:210 [inlined]\n",
      "  [7] #19\n",
      "    @ ~/.julia/packages/ProgressMeter/kVZZH/src/ProgressMeter.jl:490 [inlined]\n",
      "  [8] lock_if_threading\n",
      "    @ ~/.julia/packages/ProgressMeter/kVZZH/src/ProgressMeter.jl:457 [inlined]\n",
      "  [9] #update!#18\n",
      "    @ ~/.julia/packages/ProgressMeter/kVZZH/src/ProgressMeter.jl:487 [inlined]\n",
      " [10] update!\n",
      "    @ ~/.julia/packages/ProgressMeter/kVZZH/src/ProgressMeter.jl:486 [inlined]\n",
      " [11] (::var\"#stat#30\"{Float64, Progress})(t::Float64, s::State{Int64})\n",
      "    @ Main ~/src/RD/notebooks/jl_notebook_cell_df34fa98e69747e1a8f8a730347b8e2f_W2sZmlsZQ==.jl:13\n",
      " [12] run_RD!(s::State{Int64}, M::Model, T::Float64; stats::var\"#stat#30\"{Float64, Progress}, rng::TaskLocalRNG)\n",
      "    @ Main ~/src/RD/RDnew.jl:114\n",
      " [13] top-level scope\n",
      "    @ ~/src/RD/notebooks/jl_notebook_cell_df34fa98e69747e1a8f8a730347b8e2f_W2sZmlsZQ==.jl:19"
     ]
    }
   ],
   "source": [
    "using Profile\n",
    "\n",
    "T = 20000.0\n",
    "L = 50\n",
    "\n",
    "M,s = build_model_state(L)\n",
    "\n",
    "using ProgressMeter\n",
    "\n",
    "function ProgressMeasurer(T)\n",
    "    p = Progress(100)\n",
    "    function stat(t, s)\n",
    "        update!(p, floor(Int, 100*t/T))\n",
    "    end\n",
    "end\n",
    "\n",
    "stats = ProgressMeasurer(T)\n",
    "\n",
    "run_RD!(s, M, T; stats)"
   ]
  },
  {
   "cell_type": "code",
   "execution_count": 24,
   "metadata": {},
   "outputs": [
    {
     "data": {
      "text/plain": [
       "([0 12 0 0; 0 7 0 0; … ; 0 5 0 0; 0 13 0 0], [250, 72])"
      ]
     },
     "metadata": {},
     "output_type": "display_data"
    }
   ],
   "source": [
    "include(\"run_tests.jl\")"
   ]
  }
 ],
 "metadata": {
  "kernelspec": {
   "display_name": "Julia 1.11.3",
   "language": "julia",
   "name": "julia-1.11"
  },
  "language_info": {
   "file_extension": ".jl",
   "mimetype": "application/julia",
   "name": "julia",
   "version": "1.11.3"
  }
 },
 "nbformat": 4,
 "nbformat_minor": 2
}
